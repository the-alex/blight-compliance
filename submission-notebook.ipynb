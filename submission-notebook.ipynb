{
 "cells": [
  {
   "cell_type": "markdown",
   "metadata": {},
   "source": [
    "## Imports"
   ]
  },
  {
   "cell_type": "code",
   "execution_count": null,
   "metadata": {
    "collapsed": false
   },
   "outputs": [],
   "source": [
    "%pylab inline\n",
    "%config InlineBackend.figure_format = 'retina'\n",
    "import pandas as pd\n",
    "import seaborn as sns\n",
    "pd.options.display.max_columns = 5000"
   ]
  },
  {
   "cell_type": "markdown",
   "metadata": {},
   "source": [
    "## Preprocessing"
   ]
  },
  {
   "cell_type": "markdown",
   "metadata": {},
   "source": [
    "Feature Engineering Todo:\n",
    "- Are there any repeat violators?\n",
    "- Violation descriptions -- are these valuable?\n",
    "- Is the fee amount predictive or not?\n",
    "    - It occurs to me that the answer is \"Probably\"."
   ]
  },
  {
   "cell_type": "code",
   "execution_count": null,
   "metadata": {
    "collapsed": false
   },
   "outputs": [],
   "source": [
    "%%time\n",
    "# Open data files\n",
    "path = \"./data/\"\n",
    "\n",
    "train = pd.read_csv(path+'train.csv', encoding='iso-8859-1')[::]\n",
    "test = pd.read_csv(path+'test.csv')\n",
    "test_ticket_id = np.array(test['ticket_id'])\n",
    "\n",
    "train = train.set_index('ticket_id')\n",
    "test = test.set_index('ticket_id')\n",
    "\n",
    "# Drop the violators who were found not responsible\n",
    "train.dropna(subset=['compliance'], inplace=True)\n",
    "\n",
    "# Drop some uninformative features\n",
    "for column_name in ['inspector_name', 'violator_name',\n",
    "                    'violation_zip_code', 'violation_street_number', 'violation_street_name',\n",
    "                    'mailing_address_str_number', 'mailing_address_str_name', 'city',\n",
    "                    'state', 'zip_code', 'non_us_str_code', 'country',\n",
    "                    'violation_description',\n",
    "                    'admin_fee', 'state_fee', 'late_fee']:\n",
    "    test.drop(column_name, axis=1, inplace=True)\n",
    "    train.drop(column_name, axis=1, inplace=True)\n",
    "\n",
    "\n",
    "\n",
    "# Convert datetime columns into years/months/days\n",
    "for column_name in ['ticket_issued_date', 'hearing_date']:\n",
    "    print('Converting datetime to years/months/days...', column_name)\n",
    "    \n",
    "    # test\n",
    "    day_time = pd.to_datetime(test[column_name])\n",
    "    test.drop(column_name, axis=1, inplace=True)\n",
    "    test[column_name+'_month'] = np.array(day_time.dt.month)\n",
    "    test[column_name+'_year'] = np.array(day_time.dt.year)\n",
    "    test[column_name+'_day'] = np.array(day_time.dt.day)\n",
    "    test[column_name+'_dayofweek'] = np.array(day_time.dt.dayofweek)\n",
    "    \n",
    "    # train\n",
    "    day_time = pd.to_datetime(train[column_name])\n",
    "    train.drop(column_name, axis=1, inplace=True)\n",
    "    train[column_name+'_month'] = np.array(day_time.dt.month)\n",
    "    train[column_name+'_year'] = np.array(day_time.dt.year)\n",
    "    train[column_name+'_day'] = np.array(day_time.dt.day)\n",
    "    train[column_name+'_dayofweek'] = np.array(day_time.dt.dayofweek)\n",
    "\n",
    "# Convert string columns to categorical\n",
    "cols = test.select_dtypes(exclude=['float', 'int']).columns\n",
    "len_train = len(train)\n",
    "temp_concat = pd.concat((train[cols], test[cols]), axis=0)\n",
    "\n",
    "# Some filtering on violation_code to make it more manageable\n",
    "temp_concat['violation_code'] = temp_concat['violation_code'].apply(lambda x: x.split(' ')[0])\n",
    "temp_concat['violation_code'] = temp_concat['violation_code'].apply(lambda x: x.split('(')[0])\n",
    "temp_concat['violation_code'][temp_concat['violation_code'].apply(lambda x: x.find('-')<=0)] = np.nan\n",
    "\n",
    "# Make all codes with < 10 occurrences null\n",
    "counts = temp_concat['violation_code'].value_counts()\n",
    "temp_concat['violation_code'][temp_concat['violation_code'].isin(counts[counts < 10].index)] = np.nan\n",
    "\n",
    "for column_name in cols:\n",
    "    print('Converting to categorical...', column_name, '# variables:', len(temp_concat[column_name].unique()))\n",
    "    dummies = pd.get_dummies(temp_concat[column_name])\n",
    "    temp_concat[dummies.columns] = dummies\n",
    "    temp_concat.drop(column_name, axis=1, inplace=True)\n",
    "    train.drop(column_name, axis=1, inplace=True)\n",
    "    test.drop(column_name, axis=1, inplace=True)\n",
    "\n",
    "train[temp_concat.columns] = temp_concat.loc[train.index]\n",
    "test[temp_concat.columns] = temp_concat.loc[test.index]\n",
    "\n",
    "features = list( test.columns )\n",
    "target = ['compliance']\n",
    "\n",
    "print(\"Number of features:\", len(features))"
   ]
  },
  {
   "cell_type": "code",
   "execution_count": null,
   "metadata": {
    "collapsed": false
   },
   "outputs": [],
   "source": [
    "# TODO: Add this as a feature.\n",
    "# from censusgeocode import CensusGeocode\n",
    "# cg = CensusGeocode()\n",
    "\n",
    "# def return_geoid(lon, lat):\n",
    "#     # geoid = cg.address(address, city='Detroit', state='MI')\n",
    "#     geoid = cg.coordinates(x=lon, y=lat)\n",
    "#     try:\n",
    "#        print(geoid[0]['Census Tracts'][0][u'GEOID'])\n",
    "#     except:\n",
    "#        print(lon, lat, geoid)\n",
    "#     return geoid #int(geoid)"
   ]
  },
  {
   "cell_type": "code",
   "execution_count": null,
   "metadata": {
    "collapsed": false
   },
   "outputs": [],
   "source": [
    "# Train Set\n",
    "X = train[features]\n",
    "y = np.array(train[target]).ravel()\n",
    "\n",
    "# Normalize\n",
    "mn = X.mean()\n",
    "std = X.std()\n",
    "X = (X - mn)/std\n",
    "\n",
    "X = X.replace([np.inf, -np.inf], np.nan)\n",
    "X[pd.isnull(X)] = 0\n",
    "\n",
    "# Submissions Set\n",
    "Xtest = (test[features] - mn) / std\n",
    "Xtest = Xtest.replace([np.inf, -np.inf], np.nan)\n",
    "Xtest[pd.isnull(Xtest)] = 0"
   ]
  },
  {
   "cell_type": "markdown",
   "metadata": {},
   "source": [
    "## Evaluation"
   ]
  },
  {
   "cell_type": "markdown",
   "metadata": {},
   "source": [
    "### Define Models"
   ]
  },
  {
   "cell_type": "code",
   "execution_count": null,
   "metadata": {
    "collapsed": false
   },
   "outputs": [],
   "source": [
    "# Imports\n",
    "from sklearn.linear_model import SGDClassifier, Perceptron\n",
    "from sklearn.ensemble import GradientBoostingClassifier\n",
    "from sklearn.ensemble import GradientBoostingRegressor\n",
    "from sklearn.linear_model import LogisticRegression\n",
    "from sklearn.linear_model import LogisticRegression\n",
    "from sklearn.ensemble     import RandomForestClassifier\n",
    "from sklearn.ensemble     import RandomForestRegressor\n",
    "from sklearn.neural_network import MLPClassifier\n",
    "from sklearn.neural_network import MLPRegressor\n",
    "from sklearn.cross_validation import train_test_split\n",
    "from sklearn.model_selection import cross_val_score\n",
    "from sklearn.metrics import make_scorer\n",
    "\n",
    "# Add classifiers\n",
    "classifiers = {\n",
    "    \"GradBoost_C\": GradientBoostingClassifier(learning_rate=0.05,\n",
    "                                        max_features='auto',\n",
    "                                        max_depth=2,\n",
    "                                        min_samples_leaf=3,\n",
    "                                        min_samples_split=4),\n",
    "    'MLP_C_100x3': MLPClassifier(hidden_layer_sizes=(50, 50, 50, 50), learning_rate='adaptive'),\n",
    "    \"RF_R\": RandomForestRegressor(n_estimators=25)\n",
    "}\n",
    "\n",
    "# Create Train/Test split for evaluation.\n",
    "# X_train, X_test, y_train, y_test = train_test_split(X, y, test_size=0.33, random_state=0)"
   ]
  },
  {
   "cell_type": "markdown",
   "metadata": {},
   "source": [
    "### Evaluate with K-Fold Cross Validation"
   ]
  },
  {
   "cell_type": "code",
   "execution_count": null,
   "metadata": {
    "collapsed": true
   },
   "outputs": [],
   "source": [
    "# Imports / helper functions\n",
    "from sklearn.metrics import roc_auc_score\n",
    "\n",
    "def roc_auc_scorer(y_true, y_pred):\n",
    "    return roc_auc_score(y_true, y_pred[:, 1])\n",
    "\n",
    "def accuracy_with_rescaling(y, y_pred):\n",
    "    \"\"\"Potentially depricated now that we understand that we shouldn't be rounding output\"\"\"\n",
    "    y_pred = np.round((y_pred - y_pred.min()) / y_pred.max())\n",
    "    return sum(y_pred == y) / len(y)"
   ]
  },
  {
   "cell_type": "code",
   "execution_count": null,
   "metadata": {
    "collapsed": false
   },
   "outputs": [],
   "source": [
    "%%time\n",
    "\n",
    "scores = dict()\n",
    "# Select the model\n",
    "for classifier_type in classifiers.keys():\n",
    "    # Train classifier\n",
    "    clf = classifiers[classifier_type]\n",
    "    # Score classifier\n",
    "    # If using cross_val_score, there is no need for train test split.\n",
    "    try:\n",
    "        # For the classifiers -- needs_proba=True and alternative scorer for classifiers\n",
    "        model_score = cross_val_score(clf, X, y, cv=5, n_jobs=-1, scoring=make_scorer(roc_auc_scorer, needs_proba=True))\n",
    "    except AttributeError:\n",
    "        # For the regressors\n",
    "        model_score = cross_val_score(clf, X, y, cv=5, n_jobs=-1, scoring=make_scorer(roc_auc_score))\n",
    "    # Record score\n",
    "    scores[classifier_type] = model_score\n",
    "    display(pd.DataFrame({classifier_type: scores[classifier_type]}))\n",
    "\n",
    "scores = pd.DataFrame(data=scores)\n",
    "display(scores.describe())"
   ]
  },
  {
   "cell_type": "code",
   "execution_count": null,
   "metadata": {
    "collapsed": false
   },
   "outputs": [],
   "source": [
    "plt.figure()\n",
    "sns.stripplot(data=scores)\n",
    "plt.xticks(rotation=45)\n",
    "plt.title('Comparison of Model Scores')\n",
    "\n",
    "plt.figure()\n",
    "sns.boxplot(data=scores)\n",
    "plt.xticks(rotation=45)\n",
    "plt.figure()\n",
    "sns.barplot(data=scores)\n",
    "plt.xticks(rotation=45)"
   ]
  },
  {
   "cell_type": "code",
   "execution_count": null,
   "metadata": {
    "collapsed": false
   },
   "outputs": [],
   "source": [
    "%%time\n",
    "## Submission\n",
    "def make_submission(model_name, clf):\n",
    "    print('Fitting %s ...' % model_name)\n",
    "    # Train classifier\n",
    "    clf.fit(X, y)\n",
    "\n",
    "    # Predict\n",
    "    print('Generating Predictions ...')\n",
    "    try:\n",
    "        # For classifiers, we want the predicted probabilities (for label=True)\n",
    "        y_pred = clf.predict_proba(Xtest)[:, 1]\n",
    "    except AttributeError:\n",
    "        # If regressor, get the scaled predictions\n",
    "        y_pred = np.array(clf.predict(Xtest))\n",
    "        # If output is not in range [0..1], this converts to [0..1]\n",
    "        y_pred = y_pred - y_pred.min()\n",
    "        y_pred = y_pred / y_pred.max()\n",
    "\n",
    "\n",
    "\n",
    "    # Save to CSV\n",
    "    print('Saving to CSV ...')\n",
    "    df = {\"ticket_id\":test_ticket_id, \"compliance\":y_pred}\n",
    "    df = pd.DataFrame(df, columns=[\"ticket_id\", \"compliance\"])\n",
    "    df.to_csv(\"./data/submission_%s.csv\" % model_name, index=False)\n",
    "    print('finished!')\n",
    "    print('---------------------')\n",
    "\n",
    "def make_all_submissions(classifiers):\n",
    "    \"\"\"classifiers: A dictionary of classifier name keys and sklearn classifier value pairs\"\"\"\n",
    "    for model_name, clf in classifiers.items():\n",
    "        make_submission(model_name, clf)\n",
    "\n",
    "# Make all submissions\n",
    "make_all_submissions(classifiers)\n",
    "\n",
    "# Make individual submission\n",
    "# target_clf = \"MLP_C_D\"\n",
    "# make_submission(target_clf, classifiers[target_clf])"
   ]
  },
  {
   "cell_type": "code",
   "execution_count": null,
   "metadata": {
    "collapsed": false
   },
   "outputs": [],
   "source": []
  },
  {
   "cell_type": "code",
   "execution_count": null,
   "metadata": {
    "collapsed": true
   },
   "outputs": [],
   "source": []
  },
  {
   "cell_type": "code",
   "execution_count": null,
   "metadata": {
    "collapsed": true
   },
   "outputs": [],
   "source": []
  }
 ],
 "metadata": {
  "anaconda-cloud": {},
  "kernelspec": {
   "display_name": "Python [default]",
   "language": "python",
   "name": "python3"
  },
  "language_info": {
   "codemirror_mode": {
    "name": "ipython",
    "version": 3
   },
   "file_extension": ".py",
   "mimetype": "text/x-python",
   "name": "python",
   "nbconvert_exporter": "python",
   "pygments_lexer": "ipython3",
   "version": "3.5.2"
  }
 },
 "nbformat": 4,
 "nbformat_minor": 1
}
