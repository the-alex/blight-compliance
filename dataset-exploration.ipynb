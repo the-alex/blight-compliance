{
 "cells": [
  {
   "cell_type": "code",
   "execution_count": 1,
   "metadata": {
    "collapsed": false
   },
   "outputs": [
    {
     "name": "stdout",
     "output_type": "stream",
     "text": [
      "Populating the interactive namespace from numpy and matplotlib\n"
     ]
    }
   ],
   "source": [
    "%pylab inline\n",
    "%config InlineBackend.figure_format = 'retina'\n",
    "import pandas as pd\n",
    "import seaborn as sns"
   ]
  },
  {
   "cell_type": "code",
   "execution_count": 2,
   "metadata": {
    "collapsed": false
   },
   "outputs": [
    {
     "name": "stderr",
     "output_type": "stream",
     "text": [
      "<string>:2: DtypeWarning: Columns (11,12,31) have mixed types. Specify dtype option on import or set low_memory=False.\n"
     ]
    },
    {
     "name": "stdout",
     "output_type": "stream",
     "text": [
      "Converting datetime to years/months/days... ticket_issued_date\n",
      "Converting datetime to years/months/days... hearing_date\n",
      "Converting to categorical... agency_name # variables: 5\n",
      "Converting to categorical... violation_code # variables: 72\n",
      "Converting to categorical... disposition # variables: 8\n",
      "Converting to categorical... grafitti_status # variables: 2\n",
      "Number of features: 97\n",
      "CPU times: user 4.17 s, sys: 1.26 s, total: 5.43 s\n",
      "Wall time: 5.55 s\n"
     ]
    }
   ],
   "source": [
    "%%time\n",
    "# Open data files\n",
    "path = \"./data/\"\n",
    "\n",
    "train = pd.read_csv(path+'train.csv', encoding='iso-8859-1')[::]\n",
    "test = pd.read_csv(path+'test.csv')\n",
    "test_ticket_id = np.array(test['ticket_id'])\n",
    "\n",
    "train = train.set_index('ticket_id')\n",
    "test = test.set_index('ticket_id')\n",
    "\n",
    "# Drop the violators who were found not responsible\n",
    "train.dropna(subset=['compliance'], inplace=True)\n",
    "\n",
    "# Drop some uninformative features\n",
    "for column_name in ['inspector_name', 'violator_name',\n",
    "                    'violation_zip_code', 'violation_street_number', 'violation_street_name',\n",
    "                    'mailing_address_str_number', 'mailing_address_str_name', 'city',\n",
    "                    'state', 'zip_code', 'non_us_str_code', 'country',\n",
    "                    'violation_description',\n",
    "                    'admin_fee', 'state_fee', 'late_fee']:\n",
    "    test.drop(column_name, axis=1, inplace=True)\n",
    "\n",
    "\n",
    "\n",
    "# Convert datetime columns into years/months/days\n",
    "for column_name in ['ticket_issued_date', 'hearing_date']:\n",
    "    print('Converting datetime to years/months/days...', column_name)\n",
    "    \n",
    "    # test\n",
    "    day_time = pd.to_datetime(test[column_name])\n",
    "    test.drop(column_name, axis=1, inplace=True)\n",
    "    test[column_name+'_month'] = np.array(day_time.dt.month)\n",
    "    test[column_name+'_year'] = np.array(day_time.dt.year)\n",
    "    test[column_name+'_day'] = np.array(day_time.dt.day)\n",
    "    test[column_name+'_dayofweek'] = np.array(day_time.dt.dayofweek)\n",
    "    \n",
    "    # train\n",
    "    day_time = pd.to_datetime(train[column_name])\n",
    "    train.drop(column_name, axis=1, inplace=True)\n",
    "    train[column_name+'_month'] = np.array(day_time.dt.month)\n",
    "    train[column_name+'_year'] = np.array(day_time.dt.year)\n",
    "    train[column_name+'_day'] = np.array(day_time.dt.day)\n",
    "    train[column_name+'_dayofweek'] = np.array(day_time.dt.dayofweek)\n",
    "\n",
    "# Convert string columns to categorical\n",
    "cols = test.select_dtypes(exclude=['float', 'int']).columns\n",
    "len_train = len(train)\n",
    "temp_concat = pd.concat((train[cols], test[cols]), axis=0)\n",
    "\n",
    "# Some filtering on violation_code to make it more manageable\n",
    "temp_concat['violation_code'] = temp_concat['violation_code'].apply(lambda x: x.split(' ')[0])\n",
    "temp_concat['violation_code'] = temp_concat['violation_code'].apply(lambda x: x.split('(')[0])\n",
    "temp_concat['violation_code'][temp_concat['violation_code'].apply(lambda x: x.find('-')<=0)] = np.nan\n",
    "\n",
    "# Make all codes with < 10 occurrences null\n",
    "counts = temp_concat['violation_code'].value_counts()\n",
    "temp_concat['violation_code'][temp_concat['violation_code'].isin(counts[counts < 10].index)] = np.nan\n",
    "\n",
    "for column_name in cols:\n",
    "    print('Converting to categorical...', column_name, '# variables:', len(temp_concat[column_name].unique()))\n",
    "    dummies = pd.get_dummies(temp_concat[column_name])\n",
    "    temp_concat[dummies.columns] = dummies\n",
    "    temp_concat.drop(column_name, axis=1, inplace=True)\n",
    "    train.drop(column_name, axis=1, inplace=True)\n",
    "    test.drop(column_name, axis=1, inplace=True)\n",
    "\n",
    "train[temp_concat.columns] = temp_concat.loc[train.index]\n",
    "test[temp_concat.columns] = temp_concat.loc[test.index]\n",
    "\n",
    "features = list( test.columns )\n",
    "target = ['compliance']\n",
    "\n",
    "print(\"Number of features:\", len(features))\n",
    "\n",
    "# # Train Set\n",
    "# X = train[features]\n",
    "# y = np.array(train[target]).ravel()\n",
    "\n",
    "# # Normalize\n",
    "# mn = X.mean()\n",
    "# std = X.std()\n",
    "# X = (X - mn)/std\n",
    "\n",
    "# X = X.replace([np.inf, -np.inf], np.nan)\n",
    "# X[pd.isnull(X)] = 0\n",
    "\n",
    "# # Submissions Set\n",
    "# Xtest = (test[features] - mn) / std\n",
    "# Xtest = Xtest.replace([np.inf, -np.inf], np.nan)\n",
    "# Xtest[pd.isnull(Xtest)] = 0"
   ]
  },
  {
   "cell_type": "code",
   "execution_count": null,
   "metadata": {
    "collapsed": false,
    "scrolled": false
   },
   "outputs": [],
   "source": []
  },
  {
   "cell_type": "code",
   "execution_count": null,
   "metadata": {
    "collapsed": true
   },
   "outputs": [],
   "source": []
  }
 ],
 "metadata": {
  "anaconda-cloud": {},
  "kernelspec": {
   "display_name": "Python [default]",
   "language": "python",
   "name": "python3"
  },
  "language_info": {
   "codemirror_mode": {
    "name": "ipython",
    "version": 3
   },
   "file_extension": ".py",
   "mimetype": "text/x-python",
   "name": "python",
   "nbconvert_exporter": "python",
   "pygments_lexer": "ipython3",
   "version": "3.5.2"
  }
 },
 "nbformat": 4,
 "nbformat_minor": 1
}
